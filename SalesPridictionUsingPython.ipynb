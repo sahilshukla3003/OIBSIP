{
  "nbformat": 4,
  "nbformat_minor": 0,
  "metadata": {
    "colab": {
      "provenance": []
    },
    "kernelspec": {
      "name": "python3",
      "display_name": "Python 3"
    },
    "language_info": {
      "name": "python"
    }
  },
  "cells": [
    {
      "cell_type": "markdown",
      "source": [
        "OASIS INFOBYTE"
      ],
      "metadata": {
        "id": "aPDVzQA4tJh4"
      }
    },
    {
      "cell_type": "markdown",
      "source": [
        "TASK NO:5 SALES PRICE PREDICTION\n"
      ],
      "metadata": {
        "id": "HGhFd_46tRVM"
      }
    },
    {
      "cell_type": "markdown",
      "source": [
        "NAME : SAHIL SHUKLA"
      ],
      "metadata": {
        "id": "q9evUfGbtTU1"
      }
    },
    {
      "cell_type": "code",
      "source": [
        "import pandas as pd\n",
        "import numpy as np\n",
        "import warnings\n",
        "warnings.filterwarnings('ignore')\n",
        "import matplotlib.pyplot as plt\n",
        "import seaborn as sns\n",
        "         "
      ],
      "metadata": {
        "id": "VhR-pbM-tYPW"
      },
      "execution_count": 8,
      "outputs": []
    },
    {
      "cell_type": "code",
      "source": [
        "df = pd.read_csv('/content/Advertising.csv')"
      ],
      "metadata": {
        "id": "Hm_CZQgHtc_b"
      },
      "execution_count": 9,
      "outputs": []
    },
    {
      "cell_type": "code",
      "source": [
        "df.head()"
      ],
      "metadata": {
        "colab": {
          "base_uri": "https://localhost:8080/",
          "height": 206
        },
        "id": "u2X0NFnntrGy",
        "outputId": "99fde2e6-2378-44e6-82e9-94501e134965"
      },
      "execution_count": 10,
      "outputs": [
        {
          "output_type": "execute_result",
          "data": {
            "text/plain": [
              "   Unnamed: 0     TV  Radio  Newspaper  Sales\n",
              "0           1  230.1   37.8       69.2   22.1\n",
              "1           2   44.5   39.3       45.1   10.4\n",
              "2           3   17.2   45.9       69.3    9.3\n",
              "3           4  151.5   41.3       58.5   18.5\n",
              "4           5  180.8   10.8       58.4   12.9"
            ],
            "text/html": [
              "\n",
              "  <div id=\"df-56063e7d-e6d3-4aee-9c86-f50b77b348d9\">\n",
              "    <div class=\"colab-df-container\">\n",
              "      <div>\n",
              "<style scoped>\n",
              "    .dataframe tbody tr th:only-of-type {\n",
              "        vertical-align: middle;\n",
              "    }\n",
              "\n",
              "    .dataframe tbody tr th {\n",
              "        vertical-align: top;\n",
              "    }\n",
              "\n",
              "    .dataframe thead th {\n",
              "        text-align: right;\n",
              "    }\n",
              "</style>\n",
              "<table border=\"1\" class=\"dataframe\">\n",
              "  <thead>\n",
              "    <tr style=\"text-align: right;\">\n",
              "      <th></th>\n",
              "      <th>Unnamed: 0</th>\n",
              "      <th>TV</th>\n",
              "      <th>Radio</th>\n",
              "      <th>Newspaper</th>\n",
              "      <th>Sales</th>\n",
              "    </tr>\n",
              "  </thead>\n",
              "  <tbody>\n",
              "    <tr>\n",
              "      <th>0</th>\n",
              "      <td>1</td>\n",
              "      <td>230.1</td>\n",
              "      <td>37.8</td>\n",
              "      <td>69.2</td>\n",
              "      <td>22.1</td>\n",
              "    </tr>\n",
              "    <tr>\n",
              "      <th>1</th>\n",
              "      <td>2</td>\n",
              "      <td>44.5</td>\n",
              "      <td>39.3</td>\n",
              "      <td>45.1</td>\n",
              "      <td>10.4</td>\n",
              "    </tr>\n",
              "    <tr>\n",
              "      <th>2</th>\n",
              "      <td>3</td>\n",
              "      <td>17.2</td>\n",
              "      <td>45.9</td>\n",
              "      <td>69.3</td>\n",
              "      <td>9.3</td>\n",
              "    </tr>\n",
              "    <tr>\n",
              "      <th>3</th>\n",
              "      <td>4</td>\n",
              "      <td>151.5</td>\n",
              "      <td>41.3</td>\n",
              "      <td>58.5</td>\n",
              "      <td>18.5</td>\n",
              "    </tr>\n",
              "    <tr>\n",
              "      <th>4</th>\n",
              "      <td>5</td>\n",
              "      <td>180.8</td>\n",
              "      <td>10.8</td>\n",
              "      <td>58.4</td>\n",
              "      <td>12.9</td>\n",
              "    </tr>\n",
              "  </tbody>\n",
              "</table>\n",
              "</div>\n",
              "      <button class=\"colab-df-convert\" onclick=\"convertToInteractive('df-56063e7d-e6d3-4aee-9c86-f50b77b348d9')\"\n",
              "              title=\"Convert this dataframe to an interactive table.\"\n",
              "              style=\"display:none;\">\n",
              "        \n",
              "  <svg xmlns=\"http://www.w3.org/2000/svg\" height=\"24px\"viewBox=\"0 0 24 24\"\n",
              "       width=\"24px\">\n",
              "    <path d=\"M0 0h24v24H0V0z\" fill=\"none\"/>\n",
              "    <path d=\"M18.56 5.44l.94 2.06.94-2.06 2.06-.94-2.06-.94-.94-2.06-.94 2.06-2.06.94zm-11 1L8.5 8.5l.94-2.06 2.06-.94-2.06-.94L8.5 2.5l-.94 2.06-2.06.94zm10 10l.94 2.06.94-2.06 2.06-.94-2.06-.94-.94-2.06-.94 2.06-2.06.94z\"/><path d=\"M17.41 7.96l-1.37-1.37c-.4-.4-.92-.59-1.43-.59-.52 0-1.04.2-1.43.59L10.3 9.45l-7.72 7.72c-.78.78-.78 2.05 0 2.83L4 21.41c.39.39.9.59 1.41.59.51 0 1.02-.2 1.41-.59l7.78-7.78 2.81-2.81c.8-.78.8-2.07 0-2.86zM5.41 20L4 18.59l7.72-7.72 1.47 1.35L5.41 20z\"/>\n",
              "  </svg>\n",
              "      </button>\n",
              "      \n",
              "  <style>\n",
              "    .colab-df-container {\n",
              "      display:flex;\n",
              "      flex-wrap:wrap;\n",
              "      gap: 12px;\n",
              "    }\n",
              "\n",
              "    .colab-df-convert {\n",
              "      background-color: #E8F0FE;\n",
              "      border: none;\n",
              "      border-radius: 50%;\n",
              "      cursor: pointer;\n",
              "      display: none;\n",
              "      fill: #1967D2;\n",
              "      height: 32px;\n",
              "      padding: 0 0 0 0;\n",
              "      width: 32px;\n",
              "    }\n",
              "\n",
              "    .colab-df-convert:hover {\n",
              "      background-color: #E2EBFA;\n",
              "      box-shadow: 0px 1px 2px rgba(60, 64, 67, 0.3), 0px 1px 3px 1px rgba(60, 64, 67, 0.15);\n",
              "      fill: #174EA6;\n",
              "    }\n",
              "\n",
              "    [theme=dark] .colab-df-convert {\n",
              "      background-color: #3B4455;\n",
              "      fill: #D2E3FC;\n",
              "    }\n",
              "\n",
              "    [theme=dark] .colab-df-convert:hover {\n",
              "      background-color: #434B5C;\n",
              "      box-shadow: 0px 1px 3px 1px rgba(0, 0, 0, 0.15);\n",
              "      filter: drop-shadow(0px 1px 2px rgba(0, 0, 0, 0.3));\n",
              "      fill: #FFFFFF;\n",
              "    }\n",
              "  </style>\n",
              "\n",
              "      <script>\n",
              "        const buttonEl =\n",
              "          document.querySelector('#df-56063e7d-e6d3-4aee-9c86-f50b77b348d9 button.colab-df-convert');\n",
              "        buttonEl.style.display =\n",
              "          google.colab.kernel.accessAllowed ? 'block' : 'none';\n",
              "\n",
              "        async function convertToInteractive(key) {\n",
              "          const element = document.querySelector('#df-56063e7d-e6d3-4aee-9c86-f50b77b348d9');\n",
              "          const dataTable =\n",
              "            await google.colab.kernel.invokeFunction('convertToInteractive',\n",
              "                                                     [key], {});\n",
              "          if (!dataTable) return;\n",
              "\n",
              "          const docLinkHtml = 'Like what you see? Visit the ' +\n",
              "            '<a target=\"_blank\" href=https://colab.research.google.com/notebooks/data_table.ipynb>data table notebook</a>'\n",
              "            + ' to learn more about interactive tables.';\n",
              "          element.innerHTML = '';\n",
              "          dataTable['output_type'] = 'display_data';\n",
              "          await google.colab.output.renderOutput(dataTable, element);\n",
              "          const docLink = document.createElement('div');\n",
              "          docLink.innerHTML = docLinkHtml;\n",
              "          element.appendChild(docLink);\n",
              "        }\n",
              "      </script>\n",
              "    </div>\n",
              "  </div>\n",
              "  "
            ]
          },
          "metadata": {},
          "execution_count": 10
        }
      ]
    },
    {
      "cell_type": "code",
      "source": [
        "df.shape"
      ],
      "metadata": {
        "colab": {
          "base_uri": "https://localhost:8080/"
        },
        "id": "8q56KtGctwM2",
        "outputId": "9b5d629b-e5e1-41e5-efd7-d85fb6735b11"
      },
      "execution_count": 11,
      "outputs": [
        {
          "output_type": "execute_result",
          "data": {
            "text/plain": [
              "(200, 5)"
            ]
          },
          "metadata": {},
          "execution_count": 11
        }
      ]
    },
    {
      "cell_type": "code",
      "source": [
        "df.columns.values.tolist()"
      ],
      "metadata": {
        "colab": {
          "base_uri": "https://localhost:8080/"
        },
        "id": "ZsFfaawQt0mq",
        "outputId": "c41399c2-3148-48c2-8e79-3ea019b9db3a"
      },
      "execution_count": 12,
      "outputs": [
        {
          "output_type": "execute_result",
          "data": {
            "text/plain": [
              "['Unnamed: 0', 'TV', 'Radio', 'Newspaper', 'Sales']"
            ]
          },
          "metadata": {},
          "execution_count": 12
        }
      ]
    },
    {
      "cell_type": "code",
      "source": [
        "df.describe()"
      ],
      "metadata": {
        "colab": {
          "base_uri": "https://localhost:8080/",
          "height": 300
        },
        "id": "7TrsiXy0t8Sm",
        "outputId": "a21c1073-3928-4038-c93a-9be086077822"
      },
      "execution_count": 13,
      "outputs": [
        {
          "output_type": "execute_result",
          "data": {
            "text/plain": [
              "       Unnamed: 0          TV       Radio   Newspaper       Sales\n",
              "count  200.000000  200.000000  200.000000  200.000000  200.000000\n",
              "mean   100.500000  147.042500   23.264000   30.554000   14.022500\n",
              "std     57.879185   85.854236   14.846809   21.778621    5.217457\n",
              "min      1.000000    0.700000    0.000000    0.300000    1.600000\n",
              "25%     50.750000   74.375000    9.975000   12.750000   10.375000\n",
              "50%    100.500000  149.750000   22.900000   25.750000   12.900000\n",
              "75%    150.250000  218.825000   36.525000   45.100000   17.400000\n",
              "max    200.000000  296.400000   49.600000  114.000000   27.000000"
            ],
            "text/html": [
              "\n",
              "  <div id=\"df-05e14429-8e1a-495c-8339-272a7025d3c5\">\n",
              "    <div class=\"colab-df-container\">\n",
              "      <div>\n",
              "<style scoped>\n",
              "    .dataframe tbody tr th:only-of-type {\n",
              "        vertical-align: middle;\n",
              "    }\n",
              "\n",
              "    .dataframe tbody tr th {\n",
              "        vertical-align: top;\n",
              "    }\n",
              "\n",
              "    .dataframe thead th {\n",
              "        text-align: right;\n",
              "    }\n",
              "</style>\n",
              "<table border=\"1\" class=\"dataframe\">\n",
              "  <thead>\n",
              "    <tr style=\"text-align: right;\">\n",
              "      <th></th>\n",
              "      <th>Unnamed: 0</th>\n",
              "      <th>TV</th>\n",
              "      <th>Radio</th>\n",
              "      <th>Newspaper</th>\n",
              "      <th>Sales</th>\n",
              "    </tr>\n",
              "  </thead>\n",
              "  <tbody>\n",
              "    <tr>\n",
              "      <th>count</th>\n",
              "      <td>200.000000</td>\n",
              "      <td>200.000000</td>\n",
              "      <td>200.000000</td>\n",
              "      <td>200.000000</td>\n",
              "      <td>200.000000</td>\n",
              "    </tr>\n",
              "    <tr>\n",
              "      <th>mean</th>\n",
              "      <td>100.500000</td>\n",
              "      <td>147.042500</td>\n",
              "      <td>23.264000</td>\n",
              "      <td>30.554000</td>\n",
              "      <td>14.022500</td>\n",
              "    </tr>\n",
              "    <tr>\n",
              "      <th>std</th>\n",
              "      <td>57.879185</td>\n",
              "      <td>85.854236</td>\n",
              "      <td>14.846809</td>\n",
              "      <td>21.778621</td>\n",
              "      <td>5.217457</td>\n",
              "    </tr>\n",
              "    <tr>\n",
              "      <th>min</th>\n",
              "      <td>1.000000</td>\n",
              "      <td>0.700000</td>\n",
              "      <td>0.000000</td>\n",
              "      <td>0.300000</td>\n",
              "      <td>1.600000</td>\n",
              "    </tr>\n",
              "    <tr>\n",
              "      <th>25%</th>\n",
              "      <td>50.750000</td>\n",
              "      <td>74.375000</td>\n",
              "      <td>9.975000</td>\n",
              "      <td>12.750000</td>\n",
              "      <td>10.375000</td>\n",
              "    </tr>\n",
              "    <tr>\n",
              "      <th>50%</th>\n",
              "      <td>100.500000</td>\n",
              "      <td>149.750000</td>\n",
              "      <td>22.900000</td>\n",
              "      <td>25.750000</td>\n",
              "      <td>12.900000</td>\n",
              "    </tr>\n",
              "    <tr>\n",
              "      <th>75%</th>\n",
              "      <td>150.250000</td>\n",
              "      <td>218.825000</td>\n",
              "      <td>36.525000</td>\n",
              "      <td>45.100000</td>\n",
              "      <td>17.400000</td>\n",
              "    </tr>\n",
              "    <tr>\n",
              "      <th>max</th>\n",
              "      <td>200.000000</td>\n",
              "      <td>296.400000</td>\n",
              "      <td>49.600000</td>\n",
              "      <td>114.000000</td>\n",
              "      <td>27.000000</td>\n",
              "    </tr>\n",
              "  </tbody>\n",
              "</table>\n",
              "</div>\n",
              "      <button class=\"colab-df-convert\" onclick=\"convertToInteractive('df-05e14429-8e1a-495c-8339-272a7025d3c5')\"\n",
              "              title=\"Convert this dataframe to an interactive table.\"\n",
              "              style=\"display:none;\">\n",
              "        \n",
              "  <svg xmlns=\"http://www.w3.org/2000/svg\" height=\"24px\"viewBox=\"0 0 24 24\"\n",
              "       width=\"24px\">\n",
              "    <path d=\"M0 0h24v24H0V0z\" fill=\"none\"/>\n",
              "    <path d=\"M18.56 5.44l.94 2.06.94-2.06 2.06-.94-2.06-.94-.94-2.06-.94 2.06-2.06.94zm-11 1L8.5 8.5l.94-2.06 2.06-.94-2.06-.94L8.5 2.5l-.94 2.06-2.06.94zm10 10l.94 2.06.94-2.06 2.06-.94-2.06-.94-.94-2.06-.94 2.06-2.06.94z\"/><path d=\"M17.41 7.96l-1.37-1.37c-.4-.4-.92-.59-1.43-.59-.52 0-1.04.2-1.43.59L10.3 9.45l-7.72 7.72c-.78.78-.78 2.05 0 2.83L4 21.41c.39.39.9.59 1.41.59.51 0 1.02-.2 1.41-.59l7.78-7.78 2.81-2.81c.8-.78.8-2.07 0-2.86zM5.41 20L4 18.59l7.72-7.72 1.47 1.35L5.41 20z\"/>\n",
              "  </svg>\n",
              "      </button>\n",
              "      \n",
              "  <style>\n",
              "    .colab-df-container {\n",
              "      display:flex;\n",
              "      flex-wrap:wrap;\n",
              "      gap: 12px;\n",
              "    }\n",
              "\n",
              "    .colab-df-convert {\n",
              "      background-color: #E8F0FE;\n",
              "      border: none;\n",
              "      border-radius: 50%;\n",
              "      cursor: pointer;\n",
              "      display: none;\n",
              "      fill: #1967D2;\n",
              "      height: 32px;\n",
              "      padding: 0 0 0 0;\n",
              "      width: 32px;\n",
              "    }\n",
              "\n",
              "    .colab-df-convert:hover {\n",
              "      background-color: #E2EBFA;\n",
              "      box-shadow: 0px 1px 2px rgba(60, 64, 67, 0.3), 0px 1px 3px 1px rgba(60, 64, 67, 0.15);\n",
              "      fill: #174EA6;\n",
              "    }\n",
              "\n",
              "    [theme=dark] .colab-df-convert {\n",
              "      background-color: #3B4455;\n",
              "      fill: #D2E3FC;\n",
              "    }\n",
              "\n",
              "    [theme=dark] .colab-df-convert:hover {\n",
              "      background-color: #434B5C;\n",
              "      box-shadow: 0px 1px 3px 1px rgba(0, 0, 0, 0.15);\n",
              "      filter: drop-shadow(0px 1px 2px rgba(0, 0, 0, 0.3));\n",
              "      fill: #FFFFFF;\n",
              "    }\n",
              "  </style>\n",
              "\n",
              "      <script>\n",
              "        const buttonEl =\n",
              "          document.querySelector('#df-05e14429-8e1a-495c-8339-272a7025d3c5 button.colab-df-convert');\n",
              "        buttonEl.style.display =\n",
              "          google.colab.kernel.accessAllowed ? 'block' : 'none';\n",
              "\n",
              "        async function convertToInteractive(key) {\n",
              "          const element = document.querySelector('#df-05e14429-8e1a-495c-8339-272a7025d3c5');\n",
              "          const dataTable =\n",
              "            await google.colab.kernel.invokeFunction('convertToInteractive',\n",
              "                                                     [key], {});\n",
              "          if (!dataTable) return;\n",
              "\n",
              "          const docLinkHtml = 'Like what you see? Visit the ' +\n",
              "            '<a target=\"_blank\" href=https://colab.research.google.com/notebooks/data_table.ipynb>data table notebook</a>'\n",
              "            + ' to learn more about interactive tables.';\n",
              "          element.innerHTML = '';\n",
              "          dataTable['output_type'] = 'display_data';\n",
              "          await google.colab.output.renderOutput(dataTable, element);\n",
              "          const docLink = document.createElement('div');\n",
              "          docLink.innerHTML = docLinkHtml;\n",
              "          element.appendChild(docLink);\n",
              "        }\n",
              "      </script>\n",
              "    </div>\n",
              "  </div>\n",
              "  "
            ]
          },
          "metadata": {},
          "execution_count": 13
        }
      ]
    },
    {
      "cell_type": "code",
      "source": [
        "fig, axs = plt.subplots(3, figsize = (5,5))\n",
        "plt1 = sns.boxplot(df['TV'], ax = axs[0])\n",
        "plt2 = sns.boxplot(df['Newspaper'], ax = axs[1])\n",
        "plt3 = sns.boxplot(df['Radio'], ax = axs[2])\n",
        "plt.tight_layout()\n",
        "     "
      ],
      "metadata": {
        "colab": {
          "base_uri": "https://localhost:8080/",
          "height": 369
        },
        "id": "mVNWcvRNuKjT",
        "outputId": "732049d3-1495-4d3b-8102-fcd8e18164a2"
      },
      "execution_count": 15,
      "outputs": [
        {
          "output_type": "display_data",
          "data": {
            "text/plain": [
              "<Figure size 360x360 with 3 Axes>"
            ],
            "image/png": "[encoded data removed]"
          },
          "metadata": {
            "needs_background": "light"
          }
        }
      ]
    },
    {
      "cell_type": "code",
      "source": [
        "sns.distplot(df['Newspaper'])"
      ],
      "metadata": {
        "colab": {
          "base_uri": "https://localhost:8080/",
          "height": 297
        },
        "id": "-k8qs6_tucus",
        "outputId": "b0cccfe1-6c5e-4ec4-97ec-469973636c72"
      },
      "execution_count": 16,
      "outputs": [
        {
          "output_type": "execute_result",
          "data": {
            "text/plain": [
              "<matplotlib.axes._subplots.AxesSubplot at 0x7f22f00dac70>"
            ]
          },
          "metadata": {},
          "execution_count": 16
        },
        {
          "output_type": "display_data",
          "data": {
            "text/plain": [
              "<Figure size 432x288 with 1 Axes>"
            ],
            "image/png": "[encoded data removed]"
          },
          "metadata": {
            "needs_background": "light"
          }
        }
      ]
    },
    {
      "cell_type": "code",
      "source": [
        "iqr = df.Newspaper.quantile(0.75) - df.Newspaper.quantile(0.25)"
      ],
      "metadata": {
        "id": "Dq_SjpZUulg9"
      },
      "execution_count": 17,
      "outputs": []
    },
    {
      "cell_type": "code",
      "source": [
        "lower_bridge = df[\"Newspaper\"].quantile(0.25) - (iqr*1.5)\n",
        "upper_bridge = df[\"Newspaper\"].quantile(0.75) + (iqr*1.5)\n",
        "print(lower_bridge)\n",
        "print(upper_bridge)"
      ],
      "metadata": {
        "colab": {
          "base_uri": "https://localhost:8080/"
        },
        "id": "4s0kpidRuqQ_",
        "outputId": "9bb6d017-2a3e-4a55-d9ac-20c8095ebde1"
      },
      "execution_count": 18,
      "outputs": [
        {
          "output_type": "stream",
          "name": "stdout",
          "text": [
            "-35.775000000000006\n",
            "93.625\n"
          ]
        }
      ]
    },
    {
      "cell_type": "code",
      "source": [
        "data = df.copy()"
      ],
      "metadata": {
        "id": "ueelVIZOuvPS"
      },
      "execution_count": 19,
      "outputs": []
    },
    {
      "cell_type": "code",
      "source": [
        "data.loc[data['Newspaper']>=93, 'Newspaper']=93"
      ],
      "metadata": {
        "id": "WYb5Xk97uyNJ"
      },
      "execution_count": 20,
      "outputs": []
    },
    {
      "cell_type": "code",
      "source": [
        "sns.boxplot(data['Newspaper'])"
      ],
      "metadata": {
        "colab": {
          "base_uri": "https://localhost:8080/",
          "height": 297
        },
        "id": "kBvDS8Xhu1cY",
        "outputId": "304617c3-ad60-40e2-8b9a-a5aca0ae866c"
      },
      "execution_count": 21,
      "outputs": [
        {
          "output_type": "execute_result",
          "data": {
            "text/plain": [
              "<matplotlib.axes._subplots.AxesSubplot at 0x7f22eb24af40>"
            ]
          },
          "metadata": {},
          "execution_count": 21
        },
        {
          "output_type": "display_data",
          "data": {
            "text/plain": [
              "<Figure size 432x288 with 1 Axes>"
            ],
            "image/png": "[encoded data removed]"
          },
          "metadata": {
            "needs_background": "light"
          }
        }
      ]
    },
    {
      "cell_type": "code",
      "source": [
        "sns.boxplot(data['Sales']);"
      ],
      "metadata": {
        "colab": {
          "base_uri": "https://localhost:8080/",
          "height": 279
        },
        "id": "dgS1M2kYu4GC",
        "outputId": "8758a244-9fdd-4ff1-8a8d-ad9e4e14b57c"
      },
      "execution_count": 22,
      "outputs": [
        {
          "output_type": "display_data",
          "data": {
            "text/plain": [
              "<Figure size 432x288 with 1 Axes>"
            ],
            "image/png": "[encoded data removed]"
          },
          "metadata": {
            "needs_background": "light"
          }
        }
      ]
    },
    {
      "cell_type": "code",
      "source": [
        "sns.pairplot(data, x_vars=['TV', 'Newspaper', 'Radio'],\n",
        "            y_vars='Sales', height=4, aspect=1, kind='scatter')\n",
        "plt.show()\n",
        "     "
      ],
      "metadata": {
        "colab": {
          "base_uri": "https://localhost:8080/",
          "height": 303
        },
        "id": "O6v1IyNfu7rL",
        "outputId": "446d3e48-6d45-49d6-f002-ba0fe464c483"
      },
      "execution_count": 23,
      "outputs": [
        {
          "output_type": "display_data",
          "data": {
            "text/plain": [
              "<Figure size 864x288 with 3 Axes>"
            ],
            "image/png": "[encoded data removed]"
          },
          "metadata": {
            "needs_background": "light"
          }
        }
      ]
    },
    {
      "cell_type": "code",
      "source": [
        "sns.heatmap(data.corr(), cmap=\"YlGnBu\", annot = True)\n",
        "plt.show()"
      ],
      "metadata": {
        "colab": {
          "base_uri": "https://localhost:8080/",
          "height": 274
        },
        "id": "bZx3vaBhu-5p",
        "outputId": "3f72afe2-753b-4a1f-e14d-38389651cfc6"
      },
      "execution_count": 24,
      "outputs": [
        {
          "output_type": "display_data",
          "data": {
            "text/plain": [
              "<Figure size 432x288 with 2 Axes>"
            ],
            "image/png": "[encoded data removed]"
          },
          "metadata": {
            "needs_background": "light"
          }
        }
      ]
    },
    {
      "cell_type": "code",
      "source": [
        "important_features = list(df.corr()['Sales'][(df.corr()['Sales']>+0.5)|(df.corr()['Sales']<-0.5)].index)"
      ],
      "metadata": {
        "id": "YZ7EEYnDvFUZ"
      },
      "execution_count": 25,
      "outputs": []
    },
    {
      "cell_type": "code",
      "source": [
        "print(important_features)"
      ],
      "metadata": {
        "colab": {
          "base_uri": "https://localhost:8080/"
        },
        "id": "GZeh9RVgvIiT",
        "outputId": "b026eddb-2e33-43f7-94a5-fc05f428a04f"
      },
      "execution_count": 26,
      "outputs": [
        {
          "output_type": "stream",
          "name": "stdout",
          "text": [
            "['TV', 'Radio', 'Sales']\n"
          ]
        }
      ]
    },
    {
      "cell_type": "code",
      "source": [
        "X = data['TV']\n",
        "y = data['Sales']"
      ],
      "metadata": {
        "id": "-SjNYN1XvL0i"
      },
      "execution_count": 27,
      "outputs": []
    },
    {
      "cell_type": "code",
      "source": [
        "X = X.values.reshape(-1,1)"
      ],
      "metadata": {
        "id": "hL6xewGIvPCX"
      },
      "execution_count": 28,
      "outputs": []
    },
    {
      "cell_type": "code",
      "source": [
        "X"
      ],
      "metadata": {
        "colab": {
          "base_uri": "https://localhost:8080/"
        },
        "id": "4Za8dLrrvUya",
        "outputId": "9367a604-953a-4e10-82c7-cc48827c7b3b"
      },
      "execution_count": 29,
      "outputs": [
        {
          "output_type": "execute_result",
          "data": {
            "text/plain": [
              "array([[230.1],\n",
              "       [ 44.5],\n",
              "       [ 17.2],\n",
              "       [151.5],\n",
              "       [180.8],\n",
              "       [  8.7],\n",
              "       [ 57.5],\n",
              "       [120.2],\n",
              "       [  8.6],\n",
              "       [199.8],\n",
              "       [ 66.1],\n",
              "       [214.7],\n",
              "       [ 23.8],\n",
              "       [ 97.5],\n",
              "       [204.1],\n",
              "       [195.4],\n",
              "       [ 67.8],\n",
              "       [281.4],\n",
              "       [ 69.2],\n",
              "       [147.3],\n",
              "       [218.4],\n",
              "       [237.4],\n",
              "       [ 13.2],\n",
              "       [228.3],\n",
              "       [ 62.3],\n",
              "       [262.9],\n",
              "       [142.9],\n",
              "       [240.1],\n",
              "       [248.8],\n",
              "       [ 70.6],\n",
              "       [292.9],\n",
              "       [112.9],\n",
              "       [ 97.2],\n",
              "       [265.6],\n",
              "       [ 95.7],\n",
              "       [290.7],\n",
              "       [266.9],\n",
              "       [ 74.7],\n",
              "       [ 43.1],\n",
              "       [228. ],\n",
              "       [202.5],\n",
              "       [177. ],\n",
              "       [293.6],\n",
              "       [206.9],\n",
              "       [ 25.1],\n",
              "       [175.1],\n",
              "       [ 89.7],\n",
              "       [239.9],\n",
              "       [227.2],\n",
              "       [ 66.9],\n",
              "       [199.8],\n",
              "       [100.4],\n",
              "       [216.4],\n",
              "       [182.6],\n",
              "       [262.7],\n",
              "       [198.9],\n",
              "       [  7.3],\n",
              "       [136.2],\n",
              "       [210.8],\n",
              "       [210.7],\n",
              "       [ 53.5],\n",
              "       [261.3],\n",
              "       [239.3],\n",
              "       [102.7],\n",
              "       [131.1],\n",
              "       [ 69. ],\n",
              "       [ 31.5],\n",
              "       [139.3],\n",
              "       [237.4],\n",
              "       [216.8],\n",
              "       [199.1],\n",
              "       [109.8],\n",
              "       [ 26.8],\n",
              "       [129.4],\n",
              "       [213.4],\n",
              "       [ 16.9],\n",
              "       [ 27.5],\n",
              "       [120.5],\n",
              "       [  5.4],\n",
              "       [116. ],\n",
              "       [ 76.4],\n",
              "       [239.8],\n",
              "       [ 75.3],\n",
              "       [ 68.4],\n",
              "       [213.5],\n",
              "       [193.2],\n",
              "       [ 76.3],\n",
              "       [110.7],\n",
              "       [ 88.3],\n",
              "       [109.8],\n",
              "       [134.3],\n",
              "       [ 28.6],\n",
              "       [217.7],\n",
              "       [250.9],\n",
              "       [107.4],\n",
              "       [163.3],\n",
              "       [197.6],\n",
              "       [184.9],\n",
              "       [289.7],\n",
              "       [135.2],\n",
              "       [222.4],\n",
              "       [296.4],\n",
              "       [280.2],\n",
              "       [187.9],\n",
              "       [238.2],\n",
              "       [137.9],\n",
              "       [ 25. ],\n",
              "       [ 90.4],\n",
              "       [ 13.1],\n",
              "       [255.4],\n",
              "       [225.8],\n",
              "       [241.7],\n",
              "       [175.7],\n",
              "       [209.6],\n",
              "       [ 78.2],\n",
              "       [ 75.1],\n",
              "       [139.2],\n",
              "       [ 76.4],\n",
              "       [125.7],\n",
              "       [ 19.4],\n",
              "       [141.3],\n",
              "       [ 18.8],\n",
              "       [224. ],\n",
              "       [123.1],\n",
              "       [229.5],\n",
              "       [ 87.2],\n",
              "       [  7.8],\n",
              "       [ 80.2],\n",
              "       [220.3],\n",
              "       [ 59.6],\n",
              "       [  0.7],\n",
              "       [265.2],\n",
              "       [  8.4],\n",
              "       [219.8],\n",
              "       [ 36.9],\n",
              "       [ 48.3],\n",
              "       [ 25.6],\n",
              "       [273.7],\n",
              "       [ 43. ],\n",
              "       [184.9],\n",
              "       [ 73.4],\n",
              "       [193.7],\n",
              "       [220.5],\n",
              "       [104.6],\n",
              "       [ 96.2],\n",
              "       [140.3],\n",
              "       [240.1],\n",
              "       [243.2],\n",
              "       [ 38. ],\n",
              "       [ 44.7],\n",
              "       [280.7],\n",
              "       [121. ],\n",
              "       [197.6],\n",
              "       [171.3],\n",
              "       [187.8],\n",
              "       [  4.1],\n",
              "       [ 93.9],\n",
              "       [149.8],\n",
              "       [ 11.7],\n",
              "       [131.7],\n",
              "       [172.5],\n",
              "       [ 85.7],\n",
              "       [188.4],\n",
              "       [163.5],\n",
              "       [117.2],\n",
              "       [234.5],\n",
              "       [ 17.9],\n",
              "       [206.8],\n",
              "       [215.4],\n",
              "       [284.3],\n",
              "       [ 50. ],\n",
              "       [164.5],\n",
              "       [ 19.6],\n",
              "       [168.4],\n",
              "       [222.4],\n",
              "       [276.9],\n",
              "       [248.4],\n",
              "       [170.2],\n",
              "       [276.7],\n",
              "       [165.6],\n",
              "       [156.6],\n",
              "       [218.5],\n",
              "       [ 56.2],\n",
              "       [287.6],\n",
              "       [253.8],\n",
              "       [205. ],\n",
              "       [139.5],\n",
              "       [191.1],\n",
              "       [286. ],\n",
              "       [ 18.7],\n",
              "       [ 39.5],\n",
              "       [ 75.5],\n",
              "       [ 17.2],\n",
              "       [166.8],\n",
              "       [149.7],\n",
              "       [ 38.2],\n",
              "       [ 94.2],\n",
              "       [177. ],\n",
              "       [283.6],\n",
              "       [232.1]])"
            ]
          },
          "metadata": {},
          "execution_count": 29
        }
      ]
    },
    {
      "cell_type": "code",
      "source": [
        "y"
      ],
      "metadata": {
        "colab": {
          "base_uri": "https://localhost:8080/"
        },
        "id": "wcLBR8y4vZRP",
        "outputId": "ea6267c4-01a1-47c5-a2f5-c4f9f221270d"
      },
      "execution_count": 30,
      "outputs": [
        {
          "output_type": "execute_result",
          "data": {
            "text/plain": [
              "0      22.1\n",
              "1      10.4\n",
              "2       9.3\n",
              "3      18.5\n",
              "4      12.9\n",
              "       ... \n",
              "195     7.6\n",
              "196     9.7\n",
              "197    12.8\n",
              "198    25.5\n",
              "199    13.4\n",
              "Name: Sales, Length: 200, dtype: float64"
            ]
          },
          "metadata": {},
          "execution_count": 30
        }
      ]
    },
    {
      "cell_type": "code",
      "source": [
        "print(X.shape,y.shape)"
      ],
      "metadata": {
        "colab": {
          "base_uri": "https://localhost:8080/"
        },
        "id": "4eX9v3SLvfMd",
        "outputId": "aa13031f-99a9-42df-a0be-edaf7b2c3c2a"
      },
      "execution_count": 31,
      "outputs": [
        {
          "output_type": "stream",
          "name": "stdout",
          "text": [
            "(200, 1) (200,)\n"
          ]
        }
      ]
    },
    {
      "cell_type": "code",
      "source": [
        "from sklearn.model_selection import train_test_split\n",
        "X_train,X_test,y_train,y_test=train_test_split(X,y, test_size=0.33)"
      ],
      "metadata": {
        "id": "j2B-3IvnviUd"
      },
      "execution_count": 32,
      "outputs": []
    },
    {
      "cell_type": "code",
      "source": [
        "print(X_train.shape,y_train.shape)"
      ],
      "metadata": {
        "colab": {
          "base_uri": "https://localhost:8080/"
        },
        "id": "jfgn_hNxvlOH",
        "outputId": "35d43b1f-b19d-47f2-d7fb-e3e0148bd75a"
      },
      "execution_count": 33,
      "outputs": [
        {
          "output_type": "stream",
          "name": "stdout",
          "text": [
            "(134, 1) (134,)\n"
          ]
        }
      ]
    },
    {
      "cell_type": "code",
      "source": [
        "from sklearn.metrics import  mean_squared_error , r2_score\n",
        "from sklearn.model_selection import cross_val_score,GridSearchCV\n",
        "from sklearn.neighbors import KNeighborsRegressor\n",
        "from sklearn.svm import SVR\n",
        "from sklearn.tree import DecisionTreeRegressor\n",
        "from sklearn.ensemble import RandomForestRegressor"
      ],
      "metadata": {
        "id": "kYO6DW9xvn6j"
      },
      "execution_count": 34,
      "outputs": []
    },
    {
      "cell_type": "code",
      "source": [
        "knn = KNeighborsRegressor().fit(X_train, y_train)\n",
        "knn"
      ],
      "metadata": {
        "colab": {
          "base_uri": "https://localhost:8080/"
        },
        "id": "H8-f_ZSRvumJ",
        "outputId": "658934ad-201c-4995-bc7d-a883fb614dcc"
      },
      "execution_count": 35,
      "outputs": [
        {
          "output_type": "execute_result",
          "data": {
            "text/plain": [
              "KNeighborsRegressor()"
            ]
          },
          "metadata": {},
          "execution_count": 35
        }
      ]
    },
    {
      "cell_type": "code",
      "source": [
        "knn_train_pred = knn.predict(X_train)"
      ],
      "metadata": {
        "id": "lwofbKkwv7bT"
      },
      "execution_count": 37,
      "outputs": []
    },
    {
      "cell_type": "code",
      "source": [
        "knn_test_pred = knn.predict(X_test)"
      ],
      "metadata": {
        "id": "ZuenFYMnwDe2"
      },
      "execution_count": 38,
      "outputs": []
    },
    {
      "cell_type": "code",
      "source": [
        "print(knn_train_pred, knn_test_pred)"
      ],
      "metadata": {
        "colab": {
          "base_uri": "https://localhost:8080/"
        },
        "id": "B6Kl3sx5wIID",
        "outputId": "955507ee-f653-43f5-e77d-39feb92d9b46"
      },
      "execution_count": 39,
      "outputs": [
        {
          "output_type": "stream",
          "name": "stdout",
          "text": [
            "[12.96 10.36 12.96 13.8   6.4  16.28 17.96 18.12 20.96 17.96 14.04 18.1\n",
            " 13.7  13.08 13.88 11.84 10.36 17.54 11.6   9.28 14.92 14.04 14.42 13.18\n",
            "  7.34 17.32 13.8  17.18 17.02 18.44 13.7  16.32 19.86  6.34 15.78 12.96\n",
            " 13.08 12.14 16.32 10.88 12.4  16.62 18.1  16.28 17.02 10.5   6.26 16.42\n",
            " 16.34  6.26 14.92 19.74 16.08 13.18 12.66 17.54 13.18 14.02 17.28 18.04\n",
            " 10.12  6.62  5.92 10.26 18.1  15.78 10.5  10.86 18.44  8.68 14.1   9.72\n",
            " 17.28 20.48 16.94 16.32 16.32 19.86 18.44 10.36  5.92 19.16 16.52 15.28\n",
            " 19.38 11.16  7.62 18.72 13.08 17.02 13.4  12.54 12.96  5.92 13.6  16.76\n",
            " 16.08 13.8  10.36 21.56 15.04 19.38 16.36 10.88  9.58 14.94 16.28  9.16\n",
            " 12.34 15.5  15.3  12.34  7.34 17.28 12.54 16.36  6.62 18.44 10.88 16.32\n",
            " 12.54 11.12 13.7  10.08 13.66 19.16 11.26 13.18 16.62 16.76 18.12 16.42\n",
            " 12.38 15.12] [18.12  7.34 12.54 14.92  9.5  12.96  8.9   7.92 18.12 20.48 17.1   6.62\n",
            " 12.96 17.28  6.34 11.84 17.28 16.08 16.42  5.92 18.12 16.36 20.48 12.34\n",
            " 19.74 12.96 17.28  5.92 17.32 18.12 18.44  5.92 12.96  7.92 19.74 12.38\n",
            " 10.08 10.2  17.32 15.32 15.   14.04 11.16 16.62  7.92 13.64 20.96  7.34\n",
            " 15.92 10.5  13.8   7.92  6.62 15.3  10.2   7.92 11.6  13.44 13.18 13.88\n",
            " 20.96 15.6  17.1  14.94 18.04 18.04]\n"
          ]
        }
      ]
    },
    {
      "cell_type": "code",
      "source": [
        "Results = pd.DataFrame(columns=[\"Model\",\"Train R2\",\"Test R2\",\"Test RMSE\",\"Variance\"])"
      ],
      "metadata": {
        "id": "J48CP2rDwPZO"
      },
      "execution_count": 40,
      "outputs": []
    },
    {
      "cell_type": "code",
      "source": [
        "Results.head()"
      ],
      "metadata": {
        "colab": {
          "base_uri": "https://localhost:8080/",
          "height": 49
        },
        "id": "n3C40_pSxNdo",
        "outputId": "f68fc425-defa-44f2-8ead-5ff9033e93d3"
      },
      "execution_count": 41,
      "outputs": [
        {
          "output_type": "execute_result",
          "data": {
            "text/plain": [
              "Empty DataFrame\n",
              "Columns: [Model, Train R2, Test R2, Test RMSE, Variance]\n",
              "Index: []"
            ],
            "text/html": [
              "\n",
              "  <div id=\"df-3e1e14a0-a4be-4656-8a47-f5a7e8a36486\">\n",
              "    <div class=\"colab-df-container\">\n",
              "      <div>\n",
              "<style scoped>\n",
              "    .dataframe tbody tr th:only-of-type {\n",
              "        vertical-align: middle;\n",
              "    }\n",
              "\n",
              "    .dataframe tbody tr th {\n",
              "        vertical-align: top;\n",
              "    }\n",
              "\n",
              "    .dataframe thead th {\n",
              "        text-align: right;\n",
              "    }\n",
              "</style>\n",
              "<table border=\"1\" class=\"dataframe\">\n",
              "  <thead>\n",
              "    <tr style=\"text-align: right;\">\n",
              "      <th></th>\n",
              "      <th>Model</th>\n",
              "      <th>Train R2</th>\n",
              "      <th>Test R2</th>\n",
              "      <th>Test RMSE</th>\n",
              "      <th>Variance</th>\n",
              "    </tr>\n",
              "  </thead>\n",
              "  <tbody>\n",
              "  </tbody>\n",
              "</table>\n",
              "</div>\n",
              "      <button class=\"colab-df-convert\" onclick=\"convertToInteractive('df-3e1e14a0-a4be-4656-8a47-f5a7e8a36486')\"\n",
              "              title=\"Convert this dataframe to an interactive table.\"\n",
              "              style=\"display:none;\">\n",
              "        \n",
              "  <svg xmlns=\"http://www.w3.org/2000/svg\" height=\"24px\"viewBox=\"0 0 24 24\"\n",
              "       width=\"24px\">\n",
              "    <path d=\"M0 0h24v24H0V0z\" fill=\"none\"/>\n",
              "    <path d=\"M18.56 5.44l.94 2.06.94-2.06 2.06-.94-2.06-.94-.94-2.06-.94 2.06-2.06.94zm-11 1L8.5 8.5l.94-2.06 2.06-.94-2.06-.94L8.5 2.5l-.94 2.06-2.06.94zm10 10l.94 2.06.94-2.06 2.06-.94-2.06-.94-.94-2.06-.94 2.06-2.06.94z\"/><path d=\"M17.41 7.96l-1.37-1.37c-.4-.4-.92-.59-1.43-.59-.52 0-1.04.2-1.43.59L10.3 9.45l-7.72 7.72c-.78.78-.78 2.05 0 2.83L4 21.41c.39.39.9.59 1.41.59.51 0 1.02-.2 1.41-.59l7.78-7.78 2.81-2.81c.8-.78.8-2.07 0-2.86zM5.41 20L4 18.59l7.72-7.72 1.47 1.35L5.41 20z\"/>\n",
              "  </svg>\n",
              "      </button>\n",
              "      \n",
              "  <style>\n",
              "    .colab-df-container {\n",
              "      display:flex;\n",
              "      flex-wrap:wrap;\n",
              "      gap: 12px;\n",
              "    }\n",
              "\n",
              "    .colab-df-convert {\n",
              "      background-color: #E8F0FE;\n",
              "      border: none;\n",
              "      border-radius: 50%;\n",
              "      cursor: pointer;\n",
              "      display: none;\n",
              "      fill: #1967D2;\n",
              "      height: 32px;\n",
              "      padding: 0 0 0 0;\n",
              "      width: 32px;\n",
              "    }\n",
              "\n",
              "    .colab-df-convert:hover {\n",
              "      background-color: #E2EBFA;\n",
              "      box-shadow: 0px 1px 2px rgba(60, 64, 67, 0.3), 0px 1px 3px 1px rgba(60, 64, 67, 0.15);\n",
              "      fill: #174EA6;\n",
              "    }\n",
              "\n",
              "    [theme=dark] .colab-df-convert {\n",
              "      background-color: #3B4455;\n",
              "      fill: #D2E3FC;\n",
              "    }\n",
              "\n",
              "    [theme=dark] .colab-df-convert:hover {\n",
              "      background-color: #434B5C;\n",
              "      box-shadow: 0px 1px 3px 1px rgba(0, 0, 0, 0.15);\n",
              "      filter: drop-shadow(0px 1px 2px rgba(0, 0, 0, 0.3));\n",
              "      fill: #FFFFFF;\n",
              "    }\n",
              "  </style>\n",
              "\n",
              "      <script>\n",
              "        const buttonEl =\n",
              "          document.querySelector('#df-3e1e14a0-a4be-4656-8a47-f5a7e8a36486 button.colab-df-convert');\n",
              "        buttonEl.style.display =\n",
              "          google.colab.kernel.accessAllowed ? 'block' : 'none';\n",
              "\n",
              "        async function convertToInteractive(key) {\n",
              "          const element = document.querySelector('#df-3e1e14a0-a4be-4656-8a47-f5a7e8a36486');\n",
              "          const dataTable =\n",
              "            await google.colab.kernel.invokeFunction('convertToInteractive',\n",
              "                                                     [key], {});\n",
              "          if (!dataTable) return;\n",
              "\n",
              "          const docLinkHtml = 'Like what you see? Visit the ' +\n",
              "            '<a target=\"_blank\" href=https://colab.research.google.com/notebooks/data_table.ipynb>data table notebook</a>'\n",
              "            + ' to learn more about interactive tables.';\n",
              "          element.innerHTML = '';\n",
              "          dataTable['output_type'] = 'display_data';\n",
              "          await google.colab.output.renderOutput(dataTable, element);\n",
              "          const docLink = document.createElement('div');\n",
              "          docLink.innerHTML = docLinkHtml;\n",
              "          element.appendChild(docLink);\n",
              "        }\n",
              "      </script>\n",
              "    </div>\n",
              "  </div>\n",
              "  "
            ]
          },
          "metadata": {},
          "execution_count": 41
        }
      ]
    },
    {
      "cell_type": "code",
      "source": [
        "svr = SVR().fit(X_train,y_train)\n",
        "svr\n"
      ],
      "metadata": {
        "colab": {
          "base_uri": "https://localhost:8080/"
        },
        "id": "mikJp04UxQBt",
        "outputId": "06ae8c9d-a9e5-46f8-8ec4-527393b2465f"
      },
      "execution_count": 42,
      "outputs": [
        {
          "output_type": "execute_result",
          "data": {
            "text/plain": [
              "SVR()"
            ]
          },
          "metadata": {},
          "execution_count": 42
        }
      ]
    },
    {
      "cell_type": "code",
      "source": [
        "svr_train_pred = svr.predict(X_train)\n",
        "svr_test_pred = svr.predict(X_test)\n",
        "     "
      ],
      "metadata": {
        "id": "lhCBTmSJxVH_"
      },
      "execution_count": 43,
      "outputs": []
    },
    {
      "cell_type": "code",
      "source": [
        "print(svr_train_pred,svr_test_pred)"
      ],
      "metadata": {
        "colab": {
          "base_uri": "https://localhost:8080/"
        },
        "id": "8DmnCMYUxYh4",
        "outputId": "d3c6f5b4-abd3-45a3-ee75-051d417d18ec"
      },
      "execution_count": 44,
      "outputs": [
        {
          "output_type": "stream",
          "name": "stdout",
          "text": [
            "[10.84974954  8.97949583 10.91139209 13.86910561  7.47716985 15.63146598\n",
            " 17.01190061 15.67032287 17.08593031 16.98339296 12.98775046 16.35049918\n",
            " 12.3053928  13.35604016 15.00000016 11.85567029  8.97348466 15.48957783\n",
            " 11.71315048  8.31464224 16.18332111 13.07146539 16.36083618 12.6919326\n",
            "  7.71897965 16.87407377 13.79455228 15.37566658 15.98925335 17.06733093\n",
            " 12.33677792 16.96802674 17.12820128  7.39855465 15.09540891 10.82900387\n",
            " 13.36783837 10.76090383 14.47429751 10.48969405 11.36291629 16.73644875\n",
            " 16.35817024 15.63631659 15.88824915 10.36031405  7.52190112 16.81222127\n",
            " 17.00200219  7.51880919 16.15322728 16.69362662 16.08771177 12.85584564\n",
            " 12.12086907 15.48957783 12.66430331 14.66560162 17.12994007 16.81966066\n",
            "  9.2952509   7.68424244  7.3072739  10.14095442 16.46993644 15.09540891\n",
            " 10.40562477 11.96626771 17.04273451  8.16335446 14.75489967  9.39923387\n",
            " 17.12960579 16.7835868  15.28590723 14.42582624 14.52790889 17.12361969\n",
            " 17.03824782  9.0639531   7.32939485 16.1713596  17.08994595 14.58671775\n",
            " 16.05002099 11.78518218  7.93149826 15.97707152 13.35996911 15.91141234\n",
            " 12.22099177 11.53852321 11.00715056  7.37786505 12.41303883 16.4651869\n",
            " 16.08771177 13.68703638  9.07606021 16.22029196 13.23989035 16.07968511\n",
            " 16.5669555  10.52298627  9.61317778 13.20188723 15.66052256  9.98145308\n",
            " 13.39946806 16.29632721 17.12552811 13.4393527   7.74275821 17.12994986\n",
            " 11.47813343 16.60842911  7.65801113 17.05957631 10.53404003 14.41616395\n",
            " 11.42988098 10.61079248 12.3053928   8.61441669 13.30530468 16.2000001\n",
            " 12.05166501 12.67465783 16.74811645 16.46893769 15.76968014 16.81755011\n",
            " 12.51980239 17.11046131] [15.6384744   7.75079306 11.56829777 16.18332111  9.77724259 10.87039641\n",
            "  9.85569826  8.07351192 15.51019676 16.75462565 16.93462483  7.65801113\n",
            " 10.9164885  17.12991611  7.39618893 11.84402492 17.12780449 16.14457183\n",
            " 16.85372182  7.26341133 15.90733581 16.60502375 16.79487777 13.50398543\n",
            " 16.73373739 10.9164885  17.12994986  7.36695907 16.88631151 15.81441595\n",
            " 17.02574629  7.39150752 10.86008536  7.98708956 16.69677212 12.56104534\n",
            "  8.67784302  8.76537794 16.89112821 16.39626645 14.80971036 13.04948456\n",
            " 11.80491252 16.69749915  8.10805825 14.8696707  17.05598182  7.71506447\n",
            " 15.78974245 10.45620823 13.79020296  8.01550143  7.64698307 17.12552811\n",
            "  8.68944735  7.9917968  11.72526735 11.10548687 12.76477904 15.03012398\n",
            " 17.0816476  14.09953078 16.93462483 13.16797463 16.83833407 16.84095828]\n"
          ]
        }
      ]
    },
    {
      "cell_type": "code",
      "source": [
        "r2 = r2_score(y_test,svr_test_pred)\n",
        "r2_train = r2_score(y_train,svr_train_pred)\n",
        "rmse = np.sqrt(mean_squared_error(y_test,svr_test_pred))\n",
        "variance = r2_train - r2\n",
        "Results = Results.append({\"Model\":\"Support Vector Machine\",\"Train R2\":r2_train,\"Test R2\":r2,\"Test RMSE\":rmse,\"Variance\":variance},ignore_index=True)\n",
        "print(\"R2:\",r2)\n",
        "print(\"RMSE:\",rmse)\n",
        "     "
      ],
      "metadata": {
        "colab": {
          "base_uri": "https://localhost:8080/"
        },
        "id": "bC_fafghxa58",
        "outputId": "e8eaaf4b-bb28-4b3c-a820-2d4bc3c916d4"
      },
      "execution_count": 45,
      "outputs": [
        {
          "output_type": "stream",
          "name": "stdout",
          "text": [
            "R2: 0.5727644740486824\n",
            "RMSE: 3.9294805783343274\n"
          ]
        }
      ]
    },
    {
      "cell_type": "code",
      "source": [
        "Results.head()\n",
        "     "
      ],
      "metadata": {
        "colab": {
          "base_uri": "https://localhost:8080/",
          "height": 81
        },
        "id": "Y1IhynLSxh37",
        "outputId": "9cc35d14-eb2a-4b54-e2d7-a606238648f7"
      },
      "execution_count": 46,
      "outputs": [
        {
          "output_type": "execute_result",
          "data": {
            "text/plain": [
              "                    Model  Train R2   Test R2  Test RMSE  Variance\n",
              "0  Support Vector Machine   0.53322  0.572764   3.929481 -0.039545"
            ],
            "text/html": [
              "\n",
              "  <div id=\"df-06e4ad59-7b64-49c2-9070-4ff1d10bcd50\">\n",
              "    <div class=\"colab-df-container\">\n",
              "      <div>\n",
              "<style scoped>\n",
              "    .dataframe tbody tr th:only-of-type {\n",
              "        vertical-align: middle;\n",
              "    }\n",
              "\n",
              "    .dataframe tbody tr th {\n",
              "        vertical-align: top;\n",
              "    }\n",
              "\n",
              "    .dataframe thead th {\n",
              "        text-align: right;\n",
              "    }\n",
              "</style>\n",
              "<table border=\"1\" class=\"dataframe\">\n",
              "  <thead>\n",
              "    <tr style=\"text-align: right;\">\n",
              "      <th></th>\n",
              "      <th>Model</th>\n",
              "      <th>Train R2</th>\n",
              "      <th>Test R2</th>\n",
              "      <th>Test RMSE</th>\n",
              "      <th>Variance</th>\n",
              "    </tr>\n",
              "  </thead>\n",
              "  <tbody>\n",
              "    <tr>\n",
              "      <th>0</th>\n",
              "      <td>Support Vector Machine</td>\n",
              "      <td>0.53322</td>\n",
              "      <td>0.572764</td>\n",
              "      <td>3.929481</td>\n",
              "      <td>-0.039545</td>\n",
              "    </tr>\n",
              "  </tbody>\n",
              "</table>\n",
              "</div>\n",
              "      <button class=\"colab-df-convert\" onclick=\"convertToInteractive('df-06e4ad59-7b64-49c2-9070-4ff1d10bcd50')\"\n",
              "              title=\"Convert this dataframe to an interactive table.\"\n",
              "              style=\"display:none;\">\n",
              "        \n",
              "  <svg xmlns=\"http://www.w3.org/2000/svg\" height=\"24px\"viewBox=\"0 0 24 24\"\n",
              "       width=\"24px\">\n",
              "    <path d=\"M0 0h24v24H0V0z\" fill=\"none\"/>\n",
              "    <path d=\"M18.56 5.44l.94 2.06.94-2.06 2.06-.94-2.06-.94-.94-2.06-.94 2.06-2.06.94zm-11 1L8.5 8.5l.94-2.06 2.06-.94-2.06-.94L8.5 2.5l-.94 2.06-2.06.94zm10 10l.94 2.06.94-2.06 2.06-.94-2.06-.94-.94-2.06-.94 2.06-2.06.94z\"/><path d=\"M17.41 7.96l-1.37-1.37c-.4-.4-.92-.59-1.43-.59-.52 0-1.04.2-1.43.59L10.3 9.45l-7.72 7.72c-.78.78-.78 2.05 0 2.83L4 21.41c.39.39.9.59 1.41.59.51 0 1.02-.2 1.41-.59l7.78-7.78 2.81-2.81c.8-.78.8-2.07 0-2.86zM5.41 20L4 18.59l7.72-7.72 1.47 1.35L5.41 20z\"/>\n",
              "  </svg>\n",
              "      </button>\n",
              "      \n",
              "  <style>\n",
              "    .colab-df-container {\n",
              "      display:flex;\n",
              "      flex-wrap:wrap;\n",
              "      gap: 12px;\n",
              "    }\n",
              "\n",
              "    .colab-df-convert {\n",
              "      background-color: #E8F0FE;\n",
              "      border: none;\n",
              "      border-radius: 50%;\n",
              "      cursor: pointer;\n",
              "      display: none;\n",
              "      fill: #1967D2;\n",
              "      height: 32px;\n",
              "      padding: 0 0 0 0;\n",
              "      width: 32px;\n",
              "    }\n",
              "\n",
              "    .colab-df-convert:hover {\n",
              "      background-color: #E2EBFA;\n",
              "      box-shadow: 0px 1px 2px rgba(60, 64, 67, 0.3), 0px 1px 3px 1px rgba(60, 64, 67, 0.15);\n",
              "      fill: #174EA6;\n",
              "    }\n",
              "\n",
              "    [theme=dark] .colab-df-convert {\n",
              "      background-color: #3B4455;\n",
              "      fill: #D2E3FC;\n",
              "    }\n",
              "\n",
              "    [theme=dark] .colab-df-convert:hover {\n",
              "      background-color: #434B5C;\n",
              "      box-shadow: 0px 1px 3px 1px rgba(0, 0, 0, 0.15);\n",
              "      filter: drop-shadow(0px 1px 2px rgba(0, 0, 0, 0.3));\n",
              "      fill: #FFFFFF;\n",
              "    }\n",
              "  </style>\n",
              "\n",
              "      <script>\n",
              "        const buttonEl =\n",
              "          document.querySelector('#df-06e4ad59-7b64-49c2-9070-4ff1d10bcd50 button.colab-df-convert');\n",
              "        buttonEl.style.display =\n",
              "          google.colab.kernel.accessAllowed ? 'block' : 'none';\n",
              "\n",
              "        async function convertToInteractive(key) {\n",
              "          const element = document.querySelector('#df-06e4ad59-7b64-49c2-9070-4ff1d10bcd50');\n",
              "          const dataTable =\n",
              "            await google.colab.kernel.invokeFunction('convertToInteractive',\n",
              "                                                     [key], {});\n",
              "          if (!dataTable) return;\n",
              "\n",
              "          const docLinkHtml = 'Like what you see? Visit the ' +\n",
              "            '<a target=\"_blank\" href=https://colab.research.google.com/notebooks/data_table.ipynb>data table notebook</a>'\n",
              "            + ' to learn more about interactive tables.';\n",
              "          element.innerHTML = '';\n",
              "          dataTable['output_type'] = 'display_data';\n",
              "          await google.colab.output.renderOutput(dataTable, element);\n",
              "          const docLink = document.createElement('div');\n",
              "          docLink.innerHTML = docLinkHtml;\n",
              "          element.appendChild(docLink);\n",
              "        }\n",
              "      </script>\n",
              "    </div>\n",
              "  </div>\n",
              "  "
            ]
          },
          "metadata": {},
          "execution_count": 46
        }
      ]
    },
    {
      "cell_type": "code",
      "source": [
        "import statsmodels.api as sm"
      ],
      "metadata": {
        "id": "EKrSfxYvxk7v"
      },
      "execution_count": 50,
      "outputs": []
    },
    {
      "cell_type": "code",
      "source": [
        "X_train_constant = sm.add_constant(X_train)"
      ],
      "metadata": {
        "id": "_pPXytgdxqIL"
      },
      "execution_count": 48,
      "outputs": []
    },
    {
      "cell_type": "code",
      "source": [
        "model = sm.OLS(y_train, X_train_constant).fit()"
      ],
      "metadata": {
        "id": "RoKepRWIxtg1"
      },
      "execution_count": 51,
      "outputs": []
    },
    {
      "cell_type": "code",
      "source": [
        "\n",
        "model.params"
      ],
      "metadata": {
        "colab": {
          "base_uri": "https://localhost:8080/"
        },
        "id": "QuOMpwbNxvoc",
        "outputId": "530357bc-401b-4336-d640-768fa2d79aa5"
      },
      "execution_count": 52,
      "outputs": [
        {
          "output_type": "execute_result",
          "data": {
            "text/plain": [
              "const    7.638506\n",
              "x1       0.042424\n",
              "dtype: float64"
            ]
          },
          "metadata": {},
          "execution_count": 52
        }
      ]
    },
    {
      "cell_type": "code",
      "source": [
        "print(model.summary())\n",
        "     "
      ],
      "metadata": {
        "colab": {
          "base_uri": "https://localhost:8080/"
        },
        "id": "I6cR9AhFxxkU",
        "outputId": "af259ace-b213-4899-aa80-cc12b026403a"
      },
      "execution_count": 53,
      "outputs": [
        {
          "output_type": "stream",
          "name": "stdout",
          "text": [
            "                            OLS Regression Results                            \n",
            "==============================================================================\n",
            "Dep. Variable:                  Sales   R-squared:                       0.541\n",
            "Model:                            OLS   Adj. R-squared:                  0.537\n",
            "Method:                 Least Squares   F-statistic:                     155.4\n",
            "Date:                Thu, 23 Feb 2023   Prob (F-statistic):           4.70e-24\n",
            "Time:                        14:57:51   Log-Likelihood:                -346.99\n",
            "No. Observations:                 134   AIC:                             698.0\n",
            "Df Residuals:                     132   BIC:                             703.8\n",
            "Df Model:                           1                                         \n",
            "Covariance Type:            nonrobust                                         \n",
            "==============================================================================\n",
            "                 coef    std err          t      P>|t|      [0.025      0.975]\n",
            "------------------------------------------------------------------------------\n",
            "const          7.6385      0.582     13.121      0.000       6.487       8.790\n",
            "x1             0.0424      0.003     12.465      0.000       0.036       0.049\n",
            "==============================================================================\n",
            "Omnibus:                        0.765   Durbin-Watson:                   1.984\n",
            "Prob(Omnibus):                  0.682   Jarque-Bera (JB):                0.891\n",
            "Skew:                           0.132   Prob(JB):                        0.641\n",
            "Kurtosis:                       2.699   Cond. No.                         355.\n",
            "==============================================================================\n",
            "\n",
            "Notes:\n",
            "[1] Standard Errors assume that the covariance matrix of the errors is correctly specified.\n"
          ]
        }
      ]
    },
    {
      "cell_type": "code",
      "source": [
        "plt.scatter(X_train, y_train)\n",
        "plt.plot(X_train, 6.9955 + 0.0541 * X_train, 'y')\n",
        "plt.show()"
      ],
      "metadata": {
        "colab": {
          "base_uri": "https://localhost:8080/",
          "height": 265
        },
        "id": "vYGGw4Fyx86j",
        "outputId": "79cce3b9-5441-45f4-a75c-942e90da941a"
      },
      "execution_count": 54,
      "outputs": [
        {
          "output_type": "display_data",
          "data": {
            "text/plain": [
              "<Figure size 432x288 with 1 Axes>"
            ],
            "image/png": "[encoded data removed]"
          },
          "metadata": {
            "needs_background": "light"
          }
        }
      ]
    },
    {
      "cell_type": "code",
      "source": [
        "y_train_pred = model.predict(X_train_constant)\n",
        "res = (y_train - y_train_pred)\n",
        "res"
      ],
      "metadata": {
        "colab": {
          "base_uri": "https://localhost:8080/"
        },
        "id": "ifNaKvqsyCJy",
        "outputId": "705ea797-98c1-4cee-cb3c-c96903790b0c"
      },
      "execution_count": 55,
      "outputs": [
        {
          "output_type": "execute_result",
          "data": {
            "text/plain": [
              "115    1.775426\n",
              "38     0.633005\n",
              "86     1.124517\n",
              "3      4.434206\n",
              "158   -0.834870\n",
              "         ...   \n",
              "43    -3.516103\n",
              "35    -7.171263\n",
              "54     1.416619\n",
              "79    -1.559730\n",
              "165   -5.687015\n",
              "Name: Sales, Length: 134, dtype: float64"
            ]
          },
          "metadata": {},
          "execution_count": 55
        }
      ]
    },
    {
      "cell_type": "code",
      "source": [
        "y_train_pred"
      ],
      "metadata": {
        "colab": {
          "base_uri": "https://localhost:8080/"
        },
        "id": "DSWWL1YwyE5M",
        "outputId": "a6f79587-a491-491a-910d-54acf8768423"
      },
      "execution_count": 61,
      "outputs": [
        {
          "output_type": "execute_result",
          "data": {
            "text/plain": [
              "array([10.82457391,  9.46699484, 10.87548312, 14.06579393,  8.13487039,\n",
              "       15.60579768, 18.4058045 , 20.06459642, 18.17671303, 18.47368345,\n",
              "       13.12821589, 19.38580689, 12.29669871, 13.54397447, 15.06700849,\n",
              "       11.77487926,  9.46275241, 15.48276708, 11.62215161,  8.97487243,\n",
              "       16.11488983, 13.22579188, 16.29731452, 12.77185138,  8.43608324,\n",
              "       16.96337675, 13.99367254, 15.38519108, 15.92822271, 17.40034751,\n",
              "       12.33488062, 17.141559  , 17.89246992,  8.00759735, 15.14761475,\n",
              "       10.80760417, 13.55670178, 10.75245252, 14.61731042, 10.54033079,\n",
              "       11.27427198, 18.90641178, 19.37732202, 15.61004011, 15.83488915,\n",
              "       10.4427548 ,  8.19850691, 18.79186605, 17.21792282,  8.19426447,\n",
              "       16.08519279, 16.69186093, 16.02155627, 12.97124581, 12.07609211,\n",
              "       15.48276708, 12.7379119 , 14.78276537, 17.8161061 , 16.87428562,\n",
              "        9.68760144,  8.39790133,  7.81244536, 10.28154228, 19.25004898,\n",
              "       15.14761475, 10.47669427, 11.89790986, 17.32398368,  8.85184183,\n",
              "       14.85912919,  9.75972283, 17.79065149, 16.81913397, 15.30882726,\n",
              "       14.57488608, 14.6639772 , 17.95610644, 17.31125638,  9.52638893,\n",
              "        7.86759701, 19.57671645, 17.4851962 , 14.71488642, 19.69974705,\n",
              "       11.69851543,  8.64820497, 19.77186844, 13.54821691, 15.85610132,\n",
              "       12.19488028, 11.44396936, 10.95608938,  7.96941544, 12.42821418,\n",
              "       16.41186025, 16.02155627, 13.88761168,  9.5348738 , 19.52580723,\n",
              "       13.41670144, 19.67005001, 16.53064842, 10.5657854 ,  9.90820804,\n",
              "       13.37427709, 15.63125229, 10.16699655, 13.59064126, 16.22943556,\n",
              "       17.71004523, 13.6330656 ,  8.46153785, 17.82459096, 11.38457527,\n",
              "       16.58155763,  8.36820429, 17.3748929 , 10.57427027, 14.56640121,\n",
              "       11.33790849, 10.63366435, 12.29669871,  9.2039639 , 13.48882283,\n",
              "       19.5470194 , 11.99548585, 12.75063921, 18.88944204, 16.41610268,\n",
              "       19.97126286, 18.78338118, 12.55972965, 17.58701463])"
            ]
          },
          "metadata": {},
          "execution_count": 61
        }
      ]
    },
    {
      "cell_type": "code",
      "source": [
        "fig = plt.figure()\n",
        "sns.distplot(res, bins = 15)\n",
        "fig.suptitle('Error Terms', fontsize = 15)\n",
        "plt.xlabel('Difference in y_train and y_train_pred', fontsize = 15)\n",
        "plt.show()\n",
        "     "
      ],
      "metadata": {
        "colab": {
          "base_uri": "https://localhost:8080/",
          "height": 314
        },
        "id": "0fZ3r0q1y0xL",
        "outputId": "a8ce28ff-02bc-4e5f-ff26-3607fd9be32e"
      },
      "execution_count": 62,
      "outputs": [
        {
          "output_type": "display_data",
          "data": {
            "text/plain": [
              "<Figure size 432x288 with 1 Axes>"
            ],
            "image/png": "[encoded data removed]"
          },
          "metadata": {
            "needs_background": "light"
          }
        }
      ]
    },
    {
      "cell_type": "code",
      "source": [
        "plt.scatter(X_train, res)\n",
        "plt.show()\n",
        "     "
      ],
      "metadata": {
        "colab": {
          "base_uri": "https://localhost:8080/",
          "height": 265
        },
        "id": "qg69oyEdy2DD",
        "outputId": "bc74fec9-b441-4dbd-dab1-779deb970273"
      },
      "execution_count": 63,
      "outputs": [
        {
          "output_type": "display_data",
          "data": {
            "text/plain": [
              "<Figure size 432x288 with 1 Axes>"
            ],
            "image/png": "[encoded data removed]"
          },
          "metadata": {
            "needs_background": "light"
          }
        }
      ]
    },
    {
      "cell_type": "code",
      "source": [
        "X_test_constant = sm.add_constant(X_test)\n",
        "y_pred = model.predict(X_test_constant)\n",
        "     "
      ],
      "metadata": {
        "id": "du-8p2Ezy9Qy"
      },
      "execution_count": 64,
      "outputs": []
    },
    {
      "cell_type": "code",
      "source": [
        "y_pred"
      ],
      "metadata": {
        "colab": {
          "base_uri": "https://localhost:8080/"
        },
        "id": "tVaLz2PPy_Qa",
        "outputId": "3501dd65-7a1d-4f27-e326-66946cf9977a"
      },
      "execution_count": 65,
      "outputs": [
        {
          "output_type": "execute_result",
          "data": {
            "text/plain": [
              "array([20.09429346,  8.47002272, 11.4736664 , 16.11488983, 10.02275377,\n",
              "       10.84154365, 10.07790542,  8.77547801, 20.21308163, 16.77670962,\n",
              "       17.07368004,  8.36820429, 10.87972556, 17.81186366,  8.00335492,\n",
              "       11.76215195, 17.74398471, 16.07670792, 18.7239871 ,  7.66820258,\n",
              "       19.83974739, 16.5773152 , 16.83610371, 13.70094455, 16.74701258,\n",
              "       10.87972556, 17.82459096,  7.94820327, 16.98458892, 19.92883852,\n",
              "       17.2773169 ,  7.99487005, 10.83305878,  8.69911419, 16.69610337,\n",
              "       12.61063887,  9.25063068,  9.3142672 , 16.99307379, 16.33549643,\n",
              "       14.90579597, 13.20033727, 11.71972761, 18.96156343,  8.80517505,\n",
              "       14.95670519, 18.2827739 ,  8.43184081, 15.74579802, 10.51487619,\n",
              "       13.98943011,  8.72456879,  8.35547699, 17.71004523,  9.25911555,\n",
              "        8.70335662, 11.63487891, 11.04093807, 12.86094251, 15.0924631 ,\n",
              "       18.19368277, 14.28215809, 17.07368004, 13.33609518, 16.90398266,\n",
              "       16.9082251 ])"
            ]
          },
          "metadata": {},
          "execution_count": 65
        }
      ]
    },
    {
      "cell_type": "code",
      "source": [
        "from sklearn.metrics import mean_squared_error\n",
        "from sklearn.metrics import r2_score"
      ],
      "metadata": {
        "id": "EqXCcZcQzBHk"
      },
      "execution_count": 66,
      "outputs": []
    },
    {
      "cell_type": "code",
      "source": [
        "np.sqrt(mean_squared_error(y_test, y_pred))"
      ],
      "metadata": {
        "colab": {
          "base_uri": "https://localhost:8080/"
        },
        "id": "x6dNpZAZzDbE",
        "outputId": "1fe04c95-b1db-4fb8-df29-f2394c63c345"
      },
      "execution_count": 67,
      "outputs": [
        {
          "output_type": "execute_result",
          "data": {
            "text/plain": [
              "3.3768635934386464"
            ]
          },
          "metadata": {},
          "execution_count": 67
        }
      ]
    },
    {
      "cell_type": "code",
      "source": [
        "r2 = r2_score(y_test, y_pred)\n",
        "r2"
      ],
      "metadata": {
        "colab": {
          "base_uri": "https://localhost:8080/"
        },
        "id": "H__Z1ZzezFlJ",
        "outputId": "f8fda852-d4d1-43a1-87e8-5765a466bb80"
      },
      "execution_count": 68,
      "outputs": [
        {
          "output_type": "execute_result",
          "data": {
            "text/plain": [
              "0.6844820285548252"
            ]
          },
          "metadata": {},
          "execution_count": 68
        }
      ]
    },
    {
      "cell_type": "code",
      "source": [
        "\n",
        "plt.scatter(X_test, y_test)\n",
        "plt.plot(X_test, 6.9955 + 0.0541 * X_test, 'y')\n",
        "plt.show()"
      ],
      "metadata": {
        "colab": {
          "base_uri": "https://localhost:8080/",
          "height": 265
        },
        "id": "ncUNhnqwzIUc",
        "outputId": "66ff6a0e-ef7d-4b01-cb7f-c6a1609a0071"
      },
      "execution_count": 69,
      "outputs": [
        {
          "output_type": "display_data",
          "data": {
            "text/plain": [
              "<Figure size 432x288 with 1 Axes>"
            ],
            "image/png": "[encoded data removed]"
          },
          "metadata": {
            "needs_background": "light"
          }
        }
      ]
    },
    {
      "cell_type": "code",
      "source": [],
      "metadata": {
        "id": "bzhmcY0MzK1I"
      },
      "execution_count": null,
      "outputs": []
    }
  ]
}